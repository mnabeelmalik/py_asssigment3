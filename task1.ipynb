{
 "cells": [
  {
   "cell_type": "code",
   "execution_count": 5,
   "metadata": {},
   "outputs": [
    {
     "name": "stdout",
     "output_type": "stream",
     "text": [
      "Select operator\n",
      "1 for Add\n",
      "2 for Subtract\n",
      "3 for Multiply\n",
      "4 for Divide\n",
      "5 for Power\n",
      "Enter as per requirement 5\n",
      "Enter first number: 3\n",
      "Enter second number: 5\n",
      "3.0 ^ 5.0 = 243\n"
     ]
    }
   ],
   "source": [
    "def add(a, b):\n",
    "    return (a + b)\n",
    "def subtract(a, b):\n",
    "    return (a - b)\n",
    "def multiply(a, b):\n",
    "    return (a * b)\n",
    "def divide(a, b):\n",
    "    return (a / b)\n",
    "def powe(a,b):\n",
    "    return (pow(a,b))\n",
    "print(\"Select operator\")\n",
    "print(\"1 for Add\")\n",
    "print(\"2 for Subtract\")\n",
    "print(\"3 for Multiply\")\n",
    "print(\"4 for Divide\")\n",
    "print(\"5 for Power\")\n",
    "\n",
    "ch = input(\"Enter as per requirement \")\n",
    "n1 = float(input(\"Enter first number: \"))\n",
    "n2 = float(input(\"Enter second number: \"))\n",
    "if ch == '1':\n",
    "   print(n1,\"+\",n2,\"=\", add(n1,n2))\n",
    "elif ch == '2':\n",
    "   print(n1,\"-\",n2,\"=\", subtract(n1,n2))\n",
    "elif ch == '3':\n",
    "   print(n1,\"*\",n2,\"=\", multiply(n1,n2))\n",
    "elif ch == '4':\n",
    "   print(n1,\"/\",n2,\"=\", divide(n1,n2))\n",
    "elif ch == '5':\n",
    "   print(n1,\"^\",n2,\"=\", int(powe(n1,n2)))\n",
    "else:\n",
    "   print(\"Invalid input\")"
   ]
  },
  {
   "cell_type": "code",
   "execution_count": null,
   "metadata": {},
   "outputs": [],
   "source": []
  }
 ],
 "metadata": {
  "kernelspec": {
   "display_name": "Python 3",
   "language": "python",
   "name": "python3"
  },
  "language_info": {
   "codemirror_mode": {
    "name": "ipython",
    "version": 3
   },
   "file_extension": ".py",
   "mimetype": "text/x-python",
   "name": "python",
   "nbconvert_exporter": "python",
   "pygments_lexer": "ipython3",
   "version": "3.7.4"
  }
 },
 "nbformat": 4,
 "nbformat_minor": 2
}
