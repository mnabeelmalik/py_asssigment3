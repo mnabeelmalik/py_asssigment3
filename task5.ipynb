{
 "cells": [
  {
   "cell_type": "code",
   "execution_count": 6,
   "metadata": {},
   "outputs": [
    {
     "name": "stdout",
     "output_type": "stream",
     "text": [
      "[1, 34]\n"
     ]
    }
   ],
   "source": [
    "def rec(x): \n",
    "    the_size = len(x) \n",
    "    rep = [] \n",
    "    for b in range(the_size): \n",
    "        a = b + 1\n",
    "        for j in range(a, the_size): \n",
    "            if x[b] == x[j] and x[b] not in rep: \n",
    "                rep.append(x[b]) \n",
    "    return rep \n",
    "  \n",
    "my_list =  [1, 1, 2, 3, 5, 34, 13, 1, 34, 55, 89]\n",
    "print (rec(my_list)) \n",
    "      "
   ]
  },
  {
   "cell_type": "code",
   "execution_count": null,
   "metadata": {},
   "outputs": [],
   "source": []
  }
 ],
 "metadata": {
  "kernelspec": {
   "display_name": "Python 3",
   "language": "python",
   "name": "python3"
  },
  "language_info": {
   "codemirror_mode": {
    "name": "ipython",
    "version": 3
   },
   "file_extension": ".py",
   "mimetype": "text/x-python",
   "name": "python",
   "nbconvert_exporter": "python",
   "pygments_lexer": "ipython3",
   "version": "3.7.4"
  }
 },
 "nbformat": 4,
 "nbformat_minor": 2
}
