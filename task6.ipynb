{
 "cells": [
  {
   "cell_type": "code",
   "execution_count": 4,
   "metadata": {},
   "outputs": [
    {
     "name": "stdout",
     "output_type": "stream",
     "text": [
      "Key Is Present\n",
      "Key Is Present\n"
     ]
    }
   ],
   "source": [
    "dicti = {1: 14, 2: 25, 3: 20, 4: 30, 5: 90, 6: 40}\n",
    "def pres(x):\n",
    "    if x in dicti:\n",
    "        print(\"Key Is Present\")\n",
    "    else:\n",
    "        print(\"Key is not present\")\n",
    "pres(1)\n",
    "pres(2)"
   ]
  },
  {
   "cell_type": "code",
   "execution_count": null,
   "metadata": {},
   "outputs": [],
   "source": []
  }
 ],
 "metadata": {
  "kernelspec": {
   "display_name": "Python 3",
   "language": "python",
   "name": "python3"
  },
  "language_info": {
   "codemirror_mode": {
    "name": "ipython",
    "version": 3
   },
   "file_extension": ".py",
   "mimetype": "text/x-python",
   "name": "python",
   "nbconvert_exporter": "python",
   "pygments_lexer": "ipython3",
   "version": "3.7.4"
  }
 },
 "nbformat": 4,
 "nbformat_minor": 2
}
